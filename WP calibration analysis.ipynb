{
 "cells": [
  {
   "cell_type": "code",
   "execution_count": 209,
   "metadata": {},
   "outputs": [],
   "source": [
    "import numpy as np\n",
    "import matplotlib.pyplot as plt\n",
    "from scipy.optimize import curve_fit\n",
    "\n",
    "import os\n",
    "import glob\n",
    "\n",
    "import pandas as pd\n",
    "\n",
    "from scipy.optimize import least_squares\n",
    "\n",
    "working_dir=r\"C:\\Users\\Experience\\Desktop\\CalibrationOfWavePlates\\KBDproject\\KBDproject\\bin\\x64\\Debug\\Data\"\n",
    "folder='\\Arya_hwp20220503122621'\n",
    "\n",
    "os.chdir(working_dir+folder)\n",
    "working_dir+=folder+'\\\\'"
   ]
  },
  {
   "cell_type": "code",
   "execution_count": 210,
   "metadata": {},
   "outputs": [],
   "source": [
    "filenames = [i for i in glob.glob(\"*.txt\")]\n",
    "filenames.sort(key=os.path.getmtime)\n",
    "\n",
    "control=[]\n",
    "meas=[]\n",
    "\n",
    "for i, string in enumerate(filenames):\n",
    "    if string.find(\"Control\")>0:\n",
    "        control.append(string)\n",
    "    else:\n",
    "        meas.append(string)\n",
    "\n",
    "counts=np.zeros(len(meas), dtype=float)\n",
    "counts_err=np.zeros(len(meas), dtype=float)\n",
    "control_data=np.zeros(len(control), dtype=float)\n",
    "control_data_err=np.zeros(len(control), dtype=float)\n",
    "\n",
    "for i, string in enumerate(meas):\n",
    "    df = np.loadtxt(working_dir+str(string))\n",
    "    counts[i] = df\n",
    "    counts_err[i] = np.sqrt(df)\n",
    "    \n",
    "for i, string in enumerate(control):\n",
    "    df = np.loadtxt(working_dir+str(string))\n",
    "    control_data[i] = df\n",
    "    control_data_err[i] = np.sqrt(df)"
   ]
  },
  {
   "cell_type": "code",
   "execution_count": 211,
   "metadata": {},
   "outputs": [],
   "source": [
    "offset=356\n",
    "step=2\n",
    "interval=[-90,90.1]\n",
    "angles=np.arange(interval[0], interval[1], step)\n",
    "angles_plot=angles+np.full(len(angles), offset)"
   ]
  },
  {
   "cell_type": "code",
   "execution_count": 212,
   "metadata": {},
   "outputs": [
    {
     "data": {
      "text/plain": [
       "Text(0, 0.5, 'Control counts')"
      ]
     },
     "execution_count": 212,
     "metadata": {},
     "output_type": "execute_result"
    },
    {
     "data": {
      "image/png": "[encoded data removed]",
      "text/plain": [
       "<Figure size 432x288 with 1 Axes>"
      ]
     },
     "metadata": {
      "needs_background": "light"
     },
     "output_type": "display_data"
    }
   ],
   "source": [
    "plt.errorbar(angles_plot, control_data, control_data_err, fmt='.')\n",
    "plt.title(folder)\n",
    "plt.xlabel(\"Motor angle (degrees)\")\n",
    "plt.ylabel(\"Control counts\")"
   ]
  },
  {
   "cell_type": "code",
   "execution_count": 213,
   "metadata": {},
   "outputs": [],
   "source": [
    "##Defining the fiiting functions\n",
    "\n",
    "#Considering perfect input states:\n",
    "def qwp_p(x, A, phi, B):\n",
    "    #q=A*(3+np.cos(4*np.pi*(x-phi)/180)+B)/4 #Input polarization PARALEL to WPS\n",
    "    q=A*(2*(np.cos(np.pi*(x-phi)/180)**2)*(np.sin(np.pi*(x-phi)/180))**2+B)#Input polarization PERPENDICULAR to WPS\n",
    "    return q\n",
    " \n",
    "def hwp_p(x, A, phi, B):\n",
    "    #q=A*(np.cos(2*np.pi*(x-phi)/180)**2+B) #Input polarization PARALEL to WPS\n",
    "    q=A*(np.sin(2*np.pi*(x-phi)/180)**2+B) #Input polarization PERPENDICULAR to WPS\n",
    "    return q\n",
    "\n",
    "#Considering perfect input states:\n",
    "def qwp_i(x, A, phi, B, beta, p): ## If the input light is PERPENDICULAR to the WPS\n",
    "    partI=beta+beta*np.cos(4*np.pi*(x-phi)/180)+np.sin(2*np.pi*(x-phi)/180)**2\n",
    "    partII=np.sqrt((1-beta)*beta)\n",
    "    partIII=np.cos(np.pi*p/180)*np.sin(4*np.pi*(x-phi)/180)\n",
    "    partIV=4*np.cos(np.pi*(x-phi)/180)*np.sin(np.pi*(x-phi)/180)*np.sin(np.pi*p/180)\n",
    "    q=A*((partI-partII*(partIII+partIV))/2+B)\n",
    "    return q\n",
    "\n",
    "## If the input light is PERPENDICULAR to the WPS\n",
    "def hwp_i(x, A, phi, B, alpha, sig):\n",
    "    partI=1+(-1+2*alpha)*np.cos(4*np.pi*(x-phi)/180)\n",
    "    partII=2*np.sqrt((1-alpha)*alpha)*np.cos(np.pi*sig/180)*np.sin(4*np.pi*(x-phi)/180)\n",
    "    q=A*((partI+partII)/2+B)\n",
    "    return q"
   ]
  },
  {
   "cell_type": "code",
   "execution_count": 214,
   "metadata": {},
   "outputs": [],
   "source": [
    "## If the input light is PARALEL to the WPS\n",
    "#def qwp_i(x, A, phi, B, beta, p):\n",
    "#    partI=beta+beta*np.cos(4*np.pi*(x-phi)/180)+np.sin(2*np.pi*(x-phi)/180)**2\n",
    "#    partII=np.sqrt((1-beta)*beta)\n",
    "#    partIII=np.cos(np.pi*p/180)*np.sin(4*np.pi*(x-phi)/180)\n",
    "#    partIV=4*np.cos(np.pi*(x-phi)/180)*np.sin(np.pi*(x-phi)/180)*np.sin(np.pi*p/180)\n",
    "#    q=A*((partI+partII*(partIII-partIV))/2+B)\n",
    "#    return q"
   ]
  },
  {
   "cell_type": "code",
   "execution_count": 215,
   "metadata": {},
   "outputs": [
    {
     "name": "stdout",
     "output_type": "stream",
     "text": [
      "hwp_i\n"
     ]
    }
   ],
   "source": [
    "## Deciping which function and data we'll want to fit\n",
    "type='_i'\n",
    "f=eval(folder[-17:-14:1]+type)\n",
    "print(folder[-17:-14:1]+type)\n",
    "\n",
    "xdata = angles\n",
    "ydata = counts/control_data\n",
    "y_err = np.sqrt((((counts_err+0.02*counts)/control_data)**2)+((control_data_err*counts)**2/control_data**4))\n",
    "\n",
    "restric_range='yes'\n",
    "if restric_range=='yes':\n",
    "    r=20\n",
    "    xdata = angles[r:-r:1]\n",
    "    ydata = counts[r:-r:1]/control_data[r:-r:1]\n",
    "    y_err = np.sqrt((((counts_err[r:-r:1]+0.02*counts[r:-r:1])/control_data[r:-r:1])**2)+((control_data_err[r:-r:1]*counts[r:-r:1])**2/control_data[r:-r:1]**4))\n",
    "    angles_plot = angles_plot[r:-r:1]\n",
    "    \n",
    "#optimize_func = lambda x: x[0]*np.sin(x[1]*t+x[2]) + x[3] - data\n",
    "#print(len(xdata), len(ydata))"
   ]
  },
  {
   "cell_type": "code",
   "execution_count": 216,
   "metadata": {},
   "outputs": [
    {
     "name": "stdout",
     "output_type": "stream",
     "text": [
      "param A:  1.0564330349342157 \\pm 1019.8550037599808\n",
      "param phi:  0.4925731891610954 \\pm  36886.36596943516\n",
      "param B:  1.7354893344709545e-08 \\pm  482.6883527754278\n",
      "param beta:  0.0004426432057988532 \\pm  484.26245620415466\n",
      "param p:  34.0219628712418 \\pm  46341625.68768683\n",
      "\n",
      " 0 of the WP was:  356 and it should be:  356.4925731891611\n",
      "Background should bebetween  0.0 and 2.8387801293173863e-06\n"
     ]
    },
    {
     "data": {
      "image/png": "[encoded data removed]",
      "text/plain": [
       "<Figure size 432x288 with 1 Axes>"
      ]
     },
     "metadata": {
      "needs_background": "light"
     },
     "output_type": "display_data"
    }
   ],
   "source": [
    "## Fitting the data\n",
    "initial_guess=np.array([1, 0.24, 0, 0.00011, 37])\n",
    "#bounds=((0,-10,0),(3,10,2.8623569275189746e-06))\n",
    "bounds=((0, -5, 0, 0 ,-180),(4, 5, 2.8623569275189746e-06, 0.2, 180))\n",
    "popt, pcov = curve_fit(f, xdata, ydata, p0=initial_guess, sigma=y_err, bounds=bounds)\n",
    "\n",
    "fit_A = popt[0]\n",
    "fit_B = popt[1]\n",
    "fit_C = popt[2]\n",
    "if type=='_i':\n",
    "    fit_D = popt[3]\n",
    "    fit_E = popt[4]\n",
    "\n",
    "fit_y = f(xdata, fit_A, fit_B, fit_C, fit_D, fit_E)\n",
    "\n",
    "plt.errorbar(angles_plot, ydata, yerr=y_err, fmt='.', label='Data')\n",
    "plt.plot(angles_plot, fit_y, '-', label='Fit', color='purple')\n",
    "\n",
    "plt.title(folder)\n",
    "plt.xlabel(\"Motor angle (degrees)\")\n",
    "plt.ylabel(\"Normalized counts\")\n",
    "plt.legend()\n",
    "\n",
    "print(\"param A: \", fit_A, \"\\pm\", np.sqrt(pcov[0][0]))\n",
    "print(\"param phi: \", fit_B, \"\\pm \", np.sqrt(pcov[1][1]))\n",
    "print(\"param B: \", fit_C, \"\\pm \", np.sqrt(pcov[2][2]))\n",
    "if type=='_i':\n",
    "    print(\"param beta: \", fit_D, \"\\pm \", np.sqrt(pcov[3][3]))\n",
    "    print(\"param p: \", fit_E, \"\\pm \", np.sqrt(pcov[4][4]))\n",
    "\n",
    "print('\\n 0 of the WP was: ', offset, 'and it should be: ', offset+fit_B)\n",
    "print(\"Background should bebetween \", fit_A*0/np.mean(control_data), \"and\", fit_A*4/np.mean(control_data))"
   ]
  },
  {
   "cell_type": "markdown",
   "metadata": {},
   "source": [
    "###### Using least sqares method!!\n",
    "t=xdata\n",
    "#Input polarization PERPENDICULAR to WPS\n",
    "optimize_func_qwp_p = lambda x: x[0]*(2*(np.cos(np.pi*(t-x[1])/180)**2)*(np.sin(np.pi*(t-x[1])/180))**2+x[2])-ydata\n",
    "optimize_func_hwp_p = lambda x: x[0]*(np.sin(2*np.pi*(t-x[1])/180)**2+x[2])-ydata\n",
    "optimize_func_qwp_i = lambda x: x[0]*((x[3]+x[3]*np.cos(4*np.pi*(t-x[1])/180)+np.sin(2*np.pi*(t-x[1])/180)**2-np.sqrt((1-x[3])*x[3])*(np.cos(np.pi*x[4]/180)*np.sin(4*np.pi*(t-x[1])/180)+4*np.cos(np.pi*(t-x[1])/180)*np.sin(np.pi*(t-x[1])/180)*np.sin(np.pi*x[4]/180)))/2+x[2])-ydata\n",
    "optimize_func_hwp_i = lambda x: x[0]*((1+(-1+2*x[3])*np.cos(4*np.pi*(t-x[1])/180)+2*np.sqrt((1-x[3])*x[3])*np.cos(np.pi*x[4]/180)*np.sin(4*np.pi*(t-x[1])/180))/2+x[2])-ydata\n",
    "\n",
    "#bounds=((0,-180,0),(5,180,4.779021415595711e-06))\n",
    "bounds=((0,-5,0, 0 ,-180),(5,5,4.779021415595711e-06, 0.2, 180))\n",
    "type='_i'\n",
    "f2='optimize_func_'+str(folder[-17:-14:1])+type\n",
    "\n",
    "fit_A, fit_B, fit_C, fit_D, fit_E = least_squares(eval(f2), x0=[2, 0, 0, 0, 0], bounds=bounds)['x']\n",
    "fit = f(xdata, fit_A, fit_B, fit_C, fit_D, fit_E)\n",
    "plt.errorbar(angles_plot, ydata, yerr=y_err, fmt='.', label='Data')\n",
    "plt.plot(angles_plot, fit, '-', label='Fit', color='purple')\n",
    "\n",
    "plt.title(folder)\n",
    "plt.xlabel(\"Motor angle (degrees)\")\n",
    "plt.ylabel(\"Normalized counts\")\n",
    "plt.legend()\n",
    "\n",
    "print(\"param A: \", fit_A)#, \"\\pm\", np.sqrt(pcov[0][0]))\n",
    "print(\"param phi: \", fit_B)#, \"\\pm \", np.sqrt(pcov[1][1]))\n",
    "print(\"param B: \", fit_C)#, \"\\pm \", np.sqrt(pcov[2][2]))\n",
    "if type=='_i':\n",
    "    print(\"param beta: \", fit_D)#, \"\\pm \", np.sqrt(pcov[3][3]))\n",
    "    print(\"param p: \", fit_E)#, \"\\pm \", np.sqrt(pcov[4][4]))"
   ]
  },
  {
   "cell_type": "code",
   "execution_count": 81,
   "metadata": {},
   "outputs": [
    {
     "data": {
      "text/plain": [
       "<matplotlib.legend.Legend at 0x21ddc4edd00>"
      ]
     },
     "execution_count": 81,
     "metadata": {},
     "output_type": "execute_result"
    },
    {
     "data": {
      "image/png": "[encoded data removed]",
      "text/plain": [
       "<Figure size 432x288 with 1 Axes>"
      ]
     },
     "metadata": {
      "needs_background": "light"
     },
     "output_type": "display_data"
    }
   ],
   "source": [
    "### Measuring the background\n",
    "ydata = counts\n",
    "y_err = np.sqrt(counts)\n",
    "plt.errorbar(angles_plot, ydata, yerr=y_err, fmt='.', label='Data')\n",
    "plt.title(folder)\n",
    "plt.xlabel(\"Motor angle (degrees)\")\n",
    "plt.ylabel(\"Normalized counts\")\n",
    "plt.legend()"
   ]
  },
  {
   "cell_type": "code",
   "execution_count": null,
   "metadata": {},
   "outputs": [],
   "source": [
    "maximum = qwp_cos(0,fit_A, fit_B, fit_C)\n",
    "#maximum = np.max(counts)\n",
    "theory = np.full(len(angles), maximum/2)\n",
    "#plt.plot(angles_plot, theory, '-', label='Half maximum of fit', color='red')"
   ]
  }
 ],
 "metadata": {
  "kernelspec": {
   "display_name": "Python 3 (ipykernel)",
   "language": "python",
   "name": "python3"
  },
  "language_info": {
   "codemirror_mode": {
    "name": "ipython",
    "version": 3
   },
   "file_extension": ".py",
   "mimetype": "text/x-python",
   "name": "python",
   "nbconvert_exporter": "python",
   "pygments_lexer": "ipython3",
   "version": "3.8.12"
  }
 },
 "nbformat": 4,
 "nbformat_minor": 2
}
